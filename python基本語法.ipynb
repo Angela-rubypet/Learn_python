{
  "nbformat": 4,
  "nbformat_minor": 0,
  "metadata": {
    "colab": {
      "name": "python基本語法.ipynb",
      "provenance": [],
      "authorship_tag": "ABX9TyP67z/pdTiVuMm3wFbqJkQt",
      "include_colab_link": true
    },
    "kernelspec": {
      "name": "python3",
      "display_name": "Python 3"
    }
  },
  "cells": [
    {
      "cell_type": "markdown",
      "metadata": {
        "id": "view-in-github",
        "colab_type": "text"
      },
      "source": [
        "<a href=\"https://colab.research.google.com/github/Angela-rubypet/Learn_python/blob/main/python%E5%9F%BA%E6%9C%AC%E8%AA%9E%E6%B3%95.ipynb\" target=\"_parent\"><img src=\"https://colab.research.google.com/assets/colab-badge.svg\" alt=\"Open In Colab\"/></a>"
      ]
    },
    {
      "cell_type": "code",
      "metadata": {
        "colab": {
          "base_uri": "https://localhost:8080/"
        },
        "id": "e1tdyNnCaLG6",
        "outputId": "7d015b11-6a92-4bc8-9fa0-cf8517f87d03"
      },
      "source": [
        "a = 10\r\n",
        "print(a)\r\n",
        "a = a + 5\r\n",
        "print(a)\r\n"
      ],
      "execution_count": 1,
      "outputs": [
        {
          "output_type": "stream",
          "text": [
            "10\n",
            "15\n"
          ],
          "name": "stdout"
        }
      ]
    },
    {
      "cell_type": "code",
      "metadata": {
        "id": "VQphZ3o6aihn"
      },
      "source": [
        "# a=2\r\n",
        "# b=3\r\n",
        "# c=10\r\n",
        "# d=\"ruuby\"\r\n",
        "# print(c)+d\r\n"
      ],
      "execution_count": 2,
      "outputs": []
    },
    {
      "cell_type": "markdown",
      "metadata": {
        "id": "zlQMKpKSdPyS"
      },
      "source": [
        "# python不用宣告資料型態  \r\n",
        "```\r\n",
        "a = 10\r\n",
        "a就被指定為int(整數)型態了\r\n",
        "\r\n",
        "b = \"apple\"\r\n",
        "b就被指定為string(字串)型態了\r\n",
        "```\r\n",
        "#### 字串要加 \" \"(被\" \"的為字串)\r\n",
        "\r\n",
        "\r\n",
        "# 型態轉換\r\n",
        "\r\n",
        "int(a)\r\n",
        "```\r\n",
        "將a轉回為整數型態 並回傳\r\n",
        "```\r\n",
        "string(a)\r\n",
        "```\r\n",
        "將a轉回為字串型態 並回傳\r\n",
        "```\r\n"
      ]
    },
    {
      "cell_type": "markdown",
      "metadata": {
        "id": "dVYRCHUfc9T7"
      },
      "source": [
        ""
      ]
    },
    {
      "cell_type": "markdown",
      "metadata": {
        "id": "6CRBIOHLg-QF"
      },
      "source": [
        "BOOLIN\r\n",
        "bool()"
      ]
    },
    {
      "cell_type": "code",
      "metadata": {
        "id": "eFW2Y_XXhbzD"
      },
      "source": [
        "k=10"
      ],
      "execution_count": 3,
      "outputs": []
    },
    {
      "cell_type": "code",
      "metadata": {
        "colab": {
          "base_uri": "https://localhost:8080/"
        },
        "id": "OtOQSFVAhzFv",
        "outputId": "f6f5d53f-7ce2-4a5c-b371-ebce45073dd1"
      },
      "source": [
        "grade=76\r\n",
        "h=175.5\r\n",
        "w=75.5\r\n",
        "\r\n",
        "print(\"成績=\"+str(grade)+\"分\")\r\n",
        "print(\"height=\"+str(h))\r\n",
        "print(\"weight=\"+str(w))\r\n",
        "\r\n",
        "print(\"成績=\",grade)\r\n"
      ],
      "execution_count": 4,
      "outputs": [
        {
          "output_type": "stream",
          "text": [
            "成績=76分\n",
            "height=175.5\n",
            "weight=75.5\n",
            "成績= 76\n"
          ],
          "name": "stdout"
        }
      ]
    },
    {
      "cell_type": "code",
      "metadata": {
        "colab": {
          "base_uri": "https://localhost:8080/"
        },
        "id": "v_NTTt0Pj9eS",
        "outputId": "0e33709f-b8dc-4faf-e38e-a70329713a3d"
      },
      "source": [
        "i=1\r\n",
        "j=0\r\n",
        "k=0\r\n",
        "l=1\r\n",
        "k=1\r\n",
        "g=0\r\n",
        "print()"
      ],
      "execution_count": 5,
      "outputs": [
        {
          "output_type": "stream",
          "text": [
            "\n"
          ],
          "name": "stdout"
        }
      ]
    },
    {
      "cell_type": "code",
      "metadata": {
        "colab": {
          "base_uri": "https://localhost:8080/"
        },
        "id": "_y3G7Eg8lUee",
        "outputId": "43ebab81-a934-4d92-d768-303744ac1eff"
      },
      "source": [
        "a=bool(0)\r\n",
        "print(not a)"
      ],
      "execution_count": 6,
      "outputs": [
        {
          "output_type": "stream",
          "text": [
            "True\n"
          ],
          "name": "stdout"
        }
      ]
    },
    {
      "cell_type": "code",
      "metadata": {
        "colab": {
          "base_uri": "https://localhost:8080/"
        },
        "id": "tpdWkYTOk4Sp",
        "outputId": "0010e511-4974-4b4a-fe22-ce27f35199b0"
      },
      "source": [
        "x=5\r\n",
        "print(type(x))"
      ],
      "execution_count": 7,
      "outputs": [
        {
          "output_type": "stream",
          "text": [
            "<class 'int'>\n"
          ],
          "name": "stdout"
        }
      ]
    },
    {
      "cell_type": "markdown",
      "metadata": {
        "id": "OJdFzcuNqA4v"
      },
      "source": [
        "x += 1\r\n",
        "```\r\n",
        "x = x+1\r\n",
        "```\r\n",
        "x += 2\r\n",
        "```\r\n",
        "x = x+2\r\n",
        "```\r\n",
        "x -= 2\r\n",
        "```\r\n",
        "x = x-2\r\n",
        "```\r\n",
        "x *= 2\r\n",
        "```\r\n",
        "x = x*2\r\n",
        "```\r\n",
        "x /= 2\r\n",
        "```\r\n",
        "x = x/2\r\n",
        "```"
      ]
    },
    {
      "cell_type": "code",
      "metadata": {
        "colab": {
          "base_uri": "https://localhost:8080/"
        },
        "id": "341iZd6laweE",
        "outputId": "03e63dae-b1e2-4c3a-9039-3c4c2aca8727"
      },
      "source": [
        "x=10\r\n",
        "x/=2\r\n",
        "print(x)"
      ],
      "execution_count": 11,
      "outputs": [
        {
          "output_type": "stream",
          "text": [
            "5.0\n"
          ],
          "name": "stdout"
        }
      ]
    },
    {
      "cell_type": "code",
      "metadata": {
        "colab": {
          "base_uri": "https://localhost:8080/"
        },
        "id": "cYruLazDbxxF",
        "outputId": "039728f7-9a39-41b8-f097-2553153fc2f3"
      },
      "source": [
        "y=2.5\r\n",
        "print(type(y))\r\n",
        "print(y, y+1, y*2, y**2)"
      ],
      "execution_count": 14,
      "outputs": [
        {
          "output_type": "stream",
          "text": [
            "<class 'float'>\n",
            "2.5 3.5 5.0 6.25\n"
          ],
          "name": "stdout"
        }
      ]
    },
    {
      "cell_type": "code",
      "metadata": {
        "colab": {
          "base_uri": "https://localhost:8080/"
        },
        "id": "jw-asLk5b-6e",
        "outputId": "5551c955-bab3-4847-d025-88ecb9a4e9c3"
      },
      "source": [
        "x=True\r\n",
        "print(type(x))\r\n"
      ],
      "execution_count": 16,
      "outputs": [
        {
          "output_type": "stream",
          "text": [
            "<class 'bool'>\n"
          ],
          "name": "stdout"
        }
      ]
    },
    {
      "cell_type": "code",
      "metadata": {
        "colab": {
          "base_uri": "https://localhost:8080/"
        },
        "id": "8tFjwMclc-Bm",
        "outputId": "0651f03f-4e68-4c94-9f68-0b72b46948df"
      },
      "source": [
        "x=None\r\n",
        "print(x)"
      ],
      "execution_count": 22,
      "outputs": [
        {
          "output_type": "stream",
          "text": [
            "None\n"
          ],
          "name": "stdout"
        }
      ]
    },
    {
      "cell_type": "code",
      "metadata": {
        "colab": {
          "base_uri": "https://localhost:8080/"
        },
        "id": "GPIOJIbver7V",
        "outputId": "7f523dd7-567a-4cb3-d495-ff8bb428ac0f"
      },
      "source": [
        "a=True\r\n",
        "b=False\r\n",
        "print(type(a))\r\n",
        "print(a and b)\r\n",
        "print(a or b)\r\n",
        "print(not a)"
      ],
      "execution_count": 23,
      "outputs": [
        {
          "output_type": "stream",
          "text": [
            "<class 'bool'>\n",
            "False\n",
            "True\n",
            "False\n"
          ],
          "name": "stdout"
        }
      ]
    },
    {
      "cell_type": "code",
      "metadata": {
        "colab": {
          "base_uri": "https://localhost:8080/"
        },
        "id": "tYmyHhfmfIpB",
        "outputId": "07f0f151-b1d0-4c15-ac96-307479e2eb9c"
      },
      "source": [
        "a=3\r\n",
        "b=4\r\n",
        "print(a==b)\r\n",
        "print(a!=b)\r\n",
        "print(a>b)\r\n",
        "print(a>=b)\r\n",
        "print(a<b)\r\n",
        "print(a<=b)"
      ],
      "execution_count": 25,
      "outputs": [
        {
          "output_type": "stream",
          "text": [
            "False\n",
            "True\n",
            "False\n",
            "False\n",
            "True\n",
            "True\n"
          ],
          "name": "stdout"
        }
      ]
    },
    {
      "cell_type": "code",
      "metadata": {
        "colab": {
          "base_uri": "https://localhost:8080/"
        },
        "id": "Epqnu6WhhSTJ",
        "outputId": "0f30d8a4-c5d5-48a8-aeb9-e8d752d3ef06"
      },
      "source": [
        "str1='hello'\r\n",
        "str2=\"python\"\r\n",
        "print(str1)\r\n",
        "print(len(str1))\r\n",
        "str3=str1+\" \"+str2\r\n",
        "print(str3)\r\n",
        "str4=str1+str2\r\n",
        "print(str4)"
      ],
      "execution_count": 29,
      "outputs": [
        {
          "output_type": "stream",
          "text": [
            "hello\n",
            "5\n",
            "hello python\n",
            "hellopython\n"
          ],
          "name": "stdout"
        }
      ]
    },
    {
      "cell_type": "code",
      "metadata": {
        "colab": {
          "base_uri": "https://localhost:8080/"
        },
        "id": "xCmXWG0Ljv2n",
        "outputId": "3f51add2-b42e-4da5-a3e7-06bdf790d1bb"
      },
      "source": [
        "a=int(input(\"a=\"))\r\n",
        "b=int(input(\"b=\"))\r\n",
        "str4 = \"%d    %d \"%(a,b)\r\n",
        "print(str4)"
      ],
      "execution_count": 41,
      "outputs": [
        {
          "output_type": "stream",
          "text": [
            "a=12\n",
            "b=12\n",
            "12    12 \n"
          ],
          "name": "stdout"
        }
      ]
    },
    {
      "cell_type": "code",
      "metadata": {
        "colab": {
          "base_uri": "https://localhost:8080/"
        },
        "id": "wnW8HyX0mcfp",
        "outputId": "b47f6d0c-6678-43d9-901e-ee2939acf1de"
      },
      "source": [
        "str5 = \"%f\" %(4.678)\r\n",
        "print(str5)"
      ],
      "execution_count": 44,
      "outputs": [
        {
          "output_type": "stream",
          "text": [
            "4.678000\n"
          ],
          "name": "stdout"
        }
      ]
    },
    {
      "cell_type": "code",
      "metadata": {
        "colab": {
          "base_uri": "https://localhost:8080/"
        },
        "id": "d4Xswkt1nLsP",
        "outputId": "2b6845a3-80d7-4e5d-9eee-eb53dcfbbaaa"
      },
      "source": [
        "x=\"我今天考\"\r\n",
        "y=100\r\n",
        "z=\"%s%d\" %(x,y)\r\n",
        "print(z)\r\n",
        "print(x,y)"
      ],
      "execution_count": 51,
      "outputs": [
        {
          "output_type": "stream",
          "text": [
            "我今天考100\n",
            "我今天考 100\n"
          ],
          "name": "stdout"
        }
      ]
    },
    {
      "cell_type": "code",
      "metadata": {
        "colab": {
          "base_uri": "https://localhost:8080/"
        },
        "id": "s6DncYnjo_Si",
        "outputId": "a2980e28-4779-4e05-9ffd-3661b2134119"
      },
      "source": [
        "print(' python  '.strip())\r\n",
        "print(' python  ')"
      ],
      "execution_count": 56,
      "outputs": [
        {
          "output_type": "stream",
          "text": [
            "python\n",
            " python  \n"
          ],
          "name": "stdout"
        }
      ]
    },
    {
      "cell_type": "code",
      "metadata": {
        "colab": {
          "base_uri": "https://localhost:8080/"
        },
        "id": "Cs8xKlzgpb8-",
        "outputId": "dfefcc6b-bf70-4500-ef80-8314f9dc46f7"
      },
      "source": [
        "s=\"hello\"\r\n",
        "print(s.capitalize())"
      ],
      "execution_count": 57,
      "outputs": [
        {
          "output_type": "stream",
          "text": [
            "Hello\n"
          ],
          "name": "stdout"
        }
      ]
    },
    {
      "cell_type": "code",
      "metadata": {
        "colab": {
          "base_uri": "https://localhost:8080/"
        },
        "id": "5tvp_9F9pm6_",
        "outputId": "96ca1bc1-ba8e-4c40-d18a-a46ce6c20517"
      },
      "source": [
        "s=\"hello\"\r\n",
        "print(s.rjust(7))\r\n",
        "print(s.rjust(999))\r\n",
        "\r\n",
        "print(s.center(7))\r\n",
        "print(s.center(9))\r\n"
      ],
      "execution_count": 62,
      "outputs": [
        {
          "output_type": "stream",
          "text": [
            "  hello\n",
            "                                                                                                                                                                                                                                                                                                                                                                                                                                                                                                                                                                                                                                                                                                                                                                                                                                                                                                                                                                                                                                  hello\n",
            " hello \n",
            "  hello  \n"
          ],
          "name": "stdout"
        }
      ]
    },
    {
      "cell_type": "code",
      "metadata": {
        "colab": {
          "base_uri": "https://localhost:8080/"
        },
        "id": "O8lWcuauswKP",
        "outputId": "50325368-f299-4320-d2b0-0fb665ec2977"
      },
      "source": [
        "s=\"hello\"\r\n",
        "print(s.center(6))\r\n",
        "print(s.center(9))\r\n",
        "print(s.center(10))"
      ],
      "execution_count": 66,
      "outputs": [
        {
          "output_type": "stream",
          "text": [
            "hello \n",
            "  hello  \n",
            "  hello   \n"
          ],
          "name": "stdout"
        }
      ]
    },
    {
      "cell_type": "code",
      "metadata": {
        "colab": {
          "base_uri": "https://localhost:8080/"
        },
        "id": "8_FN9sfOsvzR",
        "outputId": "79b3d46b-6d4e-43ee-f910-0ecce2d55c29"
      },
      "source": [
        "s=\"hello\"\r\n",
        "print(s.replace(\"l\",\"L\"))"
      ],
      "execution_count": 67,
      "outputs": [
        {
          "output_type": "stream",
          "text": [
            "heLLo\n"
          ],
          "name": "stdout"
        }
      ]
    },
    {
      "cell_type": "code",
      "metadata": {
        "id": "flPR89g_vIg6"
      },
      "source": [
        ""
      ],
      "execution_count": null,
      "outputs": []
    }
  ]
}