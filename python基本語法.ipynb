{
  "nbformat": 4,
  "nbformat_minor": 0,
  "metadata": {
    "colab": {
      "name": "python基本語法.ipynb",
      "provenance": [],
      "authorship_tag": "ABX9TyNjDGyCRZ7zBfjwhYExH0d4",
      "include_colab_link": true
    },
    "kernelspec": {
      "name": "python3",
      "display_name": "Python 3"
    }
  },
  "cells": [
    {
      "cell_type": "markdown",
      "metadata": {
        "id": "view-in-github",
        "colab_type": "text"
      },
      "source": [
        "<a href=\"https://colab.research.google.com/github/Angela-rubypet/Learn_python/blob/main/python%E5%9F%BA%E6%9C%AC%E8%AA%9E%E6%B3%95.ipynb\" target=\"_parent\"><img src=\"https://colab.research.google.com/assets/colab-badge.svg\" alt=\"Open In Colab\"/></a>"
      ]
    },
    {
      "cell_type": "code",
      "metadata": {
        "colab": {
          "base_uri": "https://localhost:8080/",
          "height": 88
        },
        "id": "bgy8X8Y-XJBC",
        "outputId": "e18444c0-db50-41cb-f5d5-3828e5a322fc"
      },
      "source": [
        "# -*- coding: utf-8 -*-\r\n",
        "x = input('Enter your name:')\r\n",
        "print('Hello, ' + x)\r\n",
        "\r\n",
        "a = input(\"請輸入：\")\r\n",
        "a"
      ],
      "execution_count": 1,
      "outputs": [
        {
          "output_type": "stream",
          "text": [
            "Enter your name:ANGELA\n",
            "Hello, ANGELA\n",
            "請輸入：ANGE\n"
          ],
          "name": "stdout"
        },
        {
          "output_type": "execute_result",
          "data": {
            "application/vnd.google.colaboratory.intrinsic+json": {
              "type": "string"
            },
            "text/plain": [
              "'ANGE'"
            ]
          },
          "metadata": {
            "tags": []
          },
          "execution_count": 1
        }
      ]
    },
    {
      "cell_type": "code",
      "metadata": {
        "colab": {
          "base_uri": "https://localhost:8080/"
        },
        "id": "e1tdyNnCaLG6",
        "outputId": "92753ca5-9a04-4be2-f183-0aa85023e2c7"
      },
      "source": [
        "a = 10\r\n",
        "print(a)\r\n",
        "a = a + 5\r\n",
        "print(a)"
      ],
      "execution_count": 2,
      "outputs": [
        {
          "output_type": "stream",
          "text": [
            "10\n",
            "15\n"
          ],
          "name": "stdout"
        }
      ]
    },
    {
      "cell_type": "code",
      "metadata": {
        "colab": {
          "base_uri": "https://localhost:8080/",
          "height": 203
        },
        "id": "VQphZ3o6aihn",
        "outputId": "f00469b4-a262-4d39-e6cb-1eacd7770ee9"
      },
      "source": [
        "a=2\r\n",
        "b=3\r\n",
        "c=10\r\n",
        "d=\"ruuby\"\r\n",
        "print(c)+d\r\n"
      ],
      "execution_count": 9,
      "outputs": [
        {
          "output_type": "error",
          "ename": "NameError",
          "evalue": "ignored",
          "traceback": [
            "\u001b[0;31m---------------------------------------------------------------------------\u001b[0m",
            "\u001b[0;31mNameError\u001b[0m                                 Traceback (most recent call last)",
            "\u001b[0;32m<ipython-input-9-2c681eb2b9ce>\u001b[0m in \u001b[0;36m<module>\u001b[0;34m()\u001b[0m\n\u001b[1;32m      3\u001b[0m \u001b[0mc\u001b[0m\u001b[0;34m=\u001b[0m\u001b[0;36m10\u001b[0m\u001b[0;34m\u001b[0m\u001b[0;34m\u001b[0m\u001b[0m\n\u001b[1;32m      4\u001b[0m \u001b[0md\u001b[0m\u001b[0;34m=\u001b[0m\u001b[0;34m\"ruuby\"\u001b[0m\u001b[0;34m\u001b[0m\u001b[0;34m\u001b[0m\u001b[0m\n\u001b[0;32m----> 5\u001b[0;31m \u001b[0mprint\u001b[0m\u001b[0;34m(\u001b[0m\u001b[0mchar\u001b[0m\u001b[0;34m(\u001b[0m\u001b[0mc\u001b[0m\u001b[0;34m)\u001b[0m\u001b[0;34m+\u001b[0m\u001b[0md\u001b[0m\u001b[0;34m)\u001b[0m\u001b[0;34m\u001b[0m\u001b[0;34m\u001b[0m\u001b[0m\n\u001b[0m",
            "\u001b[0;31mNameError\u001b[0m: name 'char' is not defined"
          ]
        }
      ]
    },
    {
      "cell_type": "markdown",
      "metadata": {
        "id": "zlQMKpKSdPyS"
      },
      "source": [
        "# python不用宣告資料型態  \r\n",
        "```\r\n",
        "a = 10\r\n",
        "a就被指定為int(整數)型態了\r\n",
        "\r\n",
        "b = \"apple\"\r\n",
        "b就被指定為string(字串)型態了\r\n",
        "```\r\n",
        "#### 字串要加 \" \"(被\" \"的為字串)\r\n",
        "\r\n",
        "\r\n",
        "# 型態轉換\r\n",
        "\r\n",
        "int(a)\r\n",
        "```\r\n",
        "將a轉回為整數型態 並回傳\r\n",
        "```\r\n",
        "string(a)\r\n",
        "```\r\n",
        "將a轉回為字串型態 並回傳\r\n",
        "```\r\n"
      ]
    },
    {
      "cell_type": "markdown",
      "metadata": {
        "id": "dVYRCHUfc9T7"
      },
      "source": [
        ""
      ]
    }
  ]
}