{
  "nbformat": 4,
  "nbformat_minor": 0,
  "metadata": {
    "colab": {
      "name": "函數.ipynb",
      "provenance": [],
      "authorship_tag": "ABX9TyM7qBpqnps7xeVd4pUCOiS2",
      "include_colab_link": true
    },
    "kernelspec": {
      "name": "python3",
      "display_name": "Python 3"
    }
  },
  "cells": [
    {
      "cell_type": "markdown",
      "metadata": {
        "id": "view-in-github",
        "colab_type": "text"
      },
      "source": [
        "<a href=\"https://colab.research.google.com/github/Angela-rubypet/Learn_python/blob/main/%E5%87%BD%E6%95%B8.ipynb\" target=\"_parent\"><img src=\"https://colab.research.google.com/assets/colab-badge.svg\" alt=\"Open In Colab\"/></a>"
      ]
    },
    {
      "cell_type": "markdown",
      "metadata": {
        "id": "5jCyCZsi8Guv"
      },
      "source": [
        "\r\n",
        "# while迴圈"
      ]
    },
    {
      "cell_type": "code",
      "metadata": {
        "colab": {
          "base_uri": "https://localhost:8080/"
        },
        "id": "mSDJVN9C5Jfc",
        "outputId": "13983aaa-1d17-44e0-9c7a-9d60246b5061"
      },
      "source": [
        "m= int(input(\"請輸入數字=\"))\r\n",
        "r=1\r\n",
        "n=1\r\n",
        "while n<=m:\r\n",
        "  r=r*n\r\n",
        "#   n=n+1\r\n",
        "# print(str(m)+\"階層的值為=\"+str(r)) \r\n",
        "  n+=1\r\n",
        "z=\"%d階層的值為=%d\" %(m,r)\r\n",
        "print(z)"
      ],
      "execution_count": 8,
      "outputs": [
        {
          "output_type": "stream",
          "text": [
            "請輸入數字=3\n",
            "3階層的值為=6\n"
          ],
          "name": "stdout"
        }
      ]
    },
    {
      "cell_type": "code",
      "metadata": {
        "colab": {
          "base_uri": "https://localhost:8080/"
        },
        "id": "Ai7ARURJ7i8Q",
        "outputId": "611c93ae-887f-4c8a-abc4-335088530b82"
      },
      "source": [
        "m= int(input(\"請輸入數字=\"))\r\n",
        "r=1\r\n",
        "n=1\r\n",
        "while n<=m:\r\n",
        "  r=r*n\r\n",
        "  n+=1\r\n",
        "z=\"%d階層的值為=%d\" %(m,r)\r\n",
        "print(z)\r\n"
      ],
      "execution_count": 7,
      "outputs": [
        {
          "output_type": "stream",
          "text": [
            "請輸入數字=3\n",
            "3階層的值為=6\n"
          ],
          "name": "stdout"
        }
      ]
    },
    {
      "cell_type": "markdown",
      "metadata": {
        "id": "JtsPUUeL-Kt7"
      },
      "source": [
        "# 識別字命名\r\n",
        "```\r\n",
        "識別字用來命名變數\r\n",
        "關鍵字(例如True False)是python已經拿去用的名字\r\n",
        "識別字命名 以英文開頭，不能以數字、特殊符號開頭\r\n",
        "可以出現數字但不能在開頭，特殊符號不能出現\r\n",
        "```\r\n",
        "# 範例\r\n",
        "```\r\n",
        "b\r\n",
        "B\r\n",
        "lowercase\r\n",
        "lower_case_with_underscores\r\n",
        "UPPERCASE\r\n",
        "UPPER_CASE_WITH_UNDERSCORES\r\n",
        "可以用底線\r\n",
        "```\r\n",
        "# 大寫駝峰型/小寫駝峰型\r\n",
        "```\r\n",
        "CapitalizedWords\r\n",
        "mixedCase\r\n",
        "```\r\n",
        "\r\n"
      ]
    }
  ]
}