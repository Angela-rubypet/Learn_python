{
  "nbformat": 4,
  "nbformat_minor": 0,
  "metadata": {
    "colab": {
      "name": "函數.ipynb",
      "provenance": [],
      "authorship_tag": "ABX9TyPVsn1aCzvz1uodff26C558",
      "include_colab_link": true
    },
    "kernelspec": {
      "name": "python3",
      "display_name": "Python 3"
    }
  },
  "cells": [
    {
      "cell_type": "markdown",
      "metadata": {
        "id": "view-in-github",
        "colab_type": "text"
      },
      "source": [
        "<a href=\"https://colab.research.google.com/github/Angela-rubypet/Learn_python/blob/main/%E5%87%BD%E6%95%B8.ipynb\" target=\"_parent\"><img src=\"https://colab.research.google.com/assets/colab-badge.svg\" alt=\"Open In Colab\"/></a>"
      ]
    },
    {
      "cell_type": "markdown",
      "metadata": {
        "id": "5jCyCZsi8Guv"
      },
      "source": [
        "\r\n",
        "# while迴圈"
      ]
    },
    {
      "cell_type": "code",
      "metadata": {
        "colab": {
          "base_uri": "https://localhost:8080/"
        },
        "id": "mSDJVN9C5Jfc",
        "outputId": "13983aaa-1d17-44e0-9c7a-9d60246b5061"
      },
      "source": [
        "m= int(input(\"請輸入數字=\"))\r\n",
        "r=1\r\n",
        "n=1\r\n",
        "while n<=m:\r\n",
        "  r=r*n\r\n",
        "#   n=n+1\r\n",
        "# print(str(m)+\"階層的值為=\"+str(r)) \r\n",
        "  n+=1\r\n",
        "z=\"%d階層的值為=%d\" %(m,r)\r\n",
        "print(z)"
      ],
      "execution_count": null,
      "outputs": [
        {
          "output_type": "stream",
          "text": [
            "請輸入數字=3\n",
            "3階層的值為=6\n"
          ],
          "name": "stdout"
        }
      ]
    },
    {
      "cell_type": "code",
      "metadata": {
        "colab": {
          "base_uri": "https://localhost:8080/"
        },
        "id": "Ai7ARURJ7i8Q",
        "outputId": "611c93ae-887f-4c8a-abc4-335088530b82"
      },
      "source": [
        "m= int(input(\"請輸入數字=\"))\r\n",
        "r=1\r\n",
        "n=1\r\n",
        "while n<=m:\r\n",
        "  r=r*n\r\n",
        "  n+=1\r\n",
        "z=\"%d階層的值為=%d\" %(m,r)\r\n",
        "print(z)\r\n"
      ],
      "execution_count": null,
      "outputs": [
        {
          "output_type": "stream",
          "text": [
            "請輸入數字=3\n",
            "3階層的值為=6\n"
          ],
          "name": "stdout"
        }
      ]
    },
    {
      "cell_type": "markdown",
      "metadata": {
        "id": "JtsPUUeL-Kt7"
      },
      "source": [
        "# 識別字命名\r\n",
        "```\r\n",
        "識別字用來命名變數\r\n",
        "關鍵字(例如True False)是python已經拿去用的名字\r\n",
        "識別字命名 以英文開頭，不能以數字、特殊符號開頭\r\n",
        "可以出現數字但不能在開頭，特殊符號不能出現\r\n",
        "```\r\n",
        "# 範例\r\n",
        "```\r\n",
        "b\r\n",
        "B\r\n",
        "lowercase\r\n",
        "lower_case_with_underscores\r\n",
        "UPPERCASE\r\n",
        "UPPER_CASE_WITH_UNDERSCORES\r\n",
        "可以用底線\r\n",
        "```\r\n",
        "# 大寫駝峰型/小寫駝峰型\r\n",
        "```\r\n",
        "CapitalizedWords\r\n",
        "mixedCase\r\n",
        "```\r\n",
        "\r\n"
      ]
    },
    {
      "cell_type": "code",
      "metadata": {
        "id": "LJSdcrZaDw-W",
        "outputId": "f331547e-c25b-4409-fe48-11f3e95b25f4",
        "colab": {
          "base_uri": "https://localhost:8080/"
        }
      },
      "source": [
        "def message():\r\n",
        "  print(\"拿過來拿過來\") \r\n",
        "  \r\n",
        "message()"
      ],
      "execution_count": 6,
      "outputs": [
        {
          "output_type": "stream",
          "text": [
            "拿過來拿過來\n"
          ],
          "name": "stdout"
        }
      ]
    },
    {
      "cell_type": "code",
      "metadata": {
        "id": "OdPDS9y6FciK",
        "outputId": "91515e87-6be6-4d84-f8c1-5b860bed85df",
        "colab": {
          "base_uri": "https://localhost:8080/"
        }
      },
      "source": [
        "def C_to_F_temperature(c):\r\n",
        "  f= 9/5*c + 32\r\n",
        "  return f\r\n",
        "\r\n",
        "flefk=C_to_F_temperature(0)\r\n",
        "print(flefk)"
      ],
      "execution_count": 12,
      "outputs": [
        {
          "output_type": "stream",
          "text": [
            "32.0\n"
          ],
          "name": "stdout"
        }
      ]
    },
    {
      "cell_type": "code",
      "metadata": {
        "id": "0ImkJvrwF6t4",
        "outputId": "69ca0b7c-b3f1-4f16-a6c9-278aa1575e4a",
        "colab": {
          "base_uri": "https://localhost:8080/"
        }
      },
      "source": [
        "a=20\r\n",
        "a"
      ],
      "execution_count": 11,
      "outputs": [
        {
          "output_type": "execute_result",
          "data": {
            "text/plain": [
              "20"
            ]
          },
          "metadata": {
            "tags": []
          },
          "execution_count": 11
        }
      ]
    },
    {
      "cell_type": "code",
      "metadata": {
        "id": "0hKG3E9pHVrs",
        "outputId": "a7c54cdc-1dac-47ff-8d97-67a1bf334724",
        "colab": {
          "base_uri": "https://localhost:8080/"
        }
      },
      "source": [
        "import random as R\r\n",
        "\r\n",
        "t = R.randint(1,100)\r\n",
        "print(t)"
      ],
      "execution_count": 23,
      "outputs": [
        {
          "output_type": "stream",
          "text": [
            "25\n"
          ],
          "name": "stdout"
        }
      ]
    },
    {
      "cell_type": "code",
      "metadata": {
        "id": "BeB7-4WVJaOu",
        "outputId": "0b4988e8-1094-4dc7-f759-3f2386f9c72b",
        "colab": {
          "base_uri": "https://localhost:8080/"
        }
      },
      "source": [
        "from random import randint\r\n",
        "t =randint(1,100)\r\n",
        "print(t)"
      ],
      "execution_count": 26,
      "outputs": [
        {
          "output_type": "stream",
          "text": [
            "81\n"
          ],
          "name": "stdout"
        }
      ]
    },
    {
      "cell_type": "markdown",
      "metadata": {
        "id": "f1XLEA92Ljn6"
      },
      "source": [
        "# 容器\r\n",
        "\r\n",
        "1. 清單[ ]    \r\n",
        "  索引從0開始，負索引-1是最後一個"
      ]
    },
    {
      "cell_type": "code",
      "metadata": {
        "id": "1SUw1ZbUMYbK",
        "outputId": "82b9074b-06cb-4a22-ffa7-d79603a5c8ac",
        "colab": {
          "base_uri": "https://localhost:8080/"
        }
      },
      "source": [
        "ls=[1,2,3]\r\n",
        "print(ls)\r\n",
        "print(ls[1])\r\n",
        "print(ls[-3])\r\n",
        "ls[1]=\"ruby\"\r\n",
        "print(ls[1])\r\n",
        "print(ls)\r\n",
        "ls.append(\"魯比仔\")\r\n",
        "print(ls)\r\n",
        "print(ls.pop())"
      ],
      "execution_count": 34,
      "outputs": [
        {
          "output_type": "stream",
          "text": [
            "[1, 2, 3]\n",
            "2\n",
            "1\n",
            "ruby\n",
            "[1, 'ruby', 3]\n",
            "[1, 'ruby', 3, '魯比仔']\n",
            "魯比仔\n"
          ],
          "name": "stdout"
        }
      ]
    },
    {
      "cell_type": "code",
      "metadata": {
        "id": "ryy0PBN_Mohp",
        "outputId": "b183717b-fe24-4a74-9f99-f1da704834dc",
        "colab": {
          "base_uri": "https://localhost:8080/"
        }
      },
      "source": [
        "num=list(range(5))\r\n",
        "print(num)\r\n",
        "print(num[2:4])\r\n",
        "print(num[2:])\r\n",
        "print(num[:3])\r\n",
        "print(num[:])\r\n",
        "print(num[:-3])\r\n",
        "num[:2]=[7,8]\r\n",
        "print(num)"
      ],
      "execution_count": 49,
      "outputs": [
        {
          "output_type": "stream",
          "text": [
            "[0, 1, 2, 3, 4]\n",
            "[2, 3]\n",
            "[2, 3, 4]\n",
            "[0, 1, 2]\n",
            "[0, 1, 2, 3, 4]\n",
            "[0, 1]\n",
            "[7, 8, 2, 3, 4]\n"
          ],
          "name": "stdout"
        }
      ]
    },
    {
      "cell_type": "code",
      "metadata": {
        "id": "KR2jqJzkPmUy",
        "outputId": "77b1f6c9-9631-4940-f89d-bafbb3c6232f",
        "colab": {
          "base_uri": "https://localhost:8080/"
        }
      },
      "source": [
        "zoo=[\"ruby\",\"Abby\",\"pet\"]\r\n",
        "for i in zoo:\r\n",
        "  print(i)\r\n",
        "  "
      ],
      "execution_count": 51,
      "outputs": [
        {
          "output_type": "stream",
          "text": [
            "ruby\n",
            "Abby\n",
            "pet\n"
          ],
          "name": "stdout"
        }
      ]
    },
    {
      "cell_type": "markdown",
      "metadata": {
        "id": "OkQls2lUSGhB"
      },
      "source": [
        "字串一定要加\"\"，否則視為變數，會出現NameError，並且說no defined"
      ]
    }
  ]
}