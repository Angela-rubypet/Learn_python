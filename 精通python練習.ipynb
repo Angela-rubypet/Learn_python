{
  "nbformat": 4,
  "nbformat_minor": 0,
  "metadata": {
    "colab": {
      "name": "精通python練習.ipynb",
      "provenance": [],
      "authorship_tag": "ABX9TyPVtbXtXpnGrw1CdM9Jzh5Z",
      "include_colab_link": true
    },
    "kernelspec": {
      "name": "python3",
      "display_name": "Python 3"
    }
  },
  "cells": [
    {
      "cell_type": "markdown",
      "metadata": {
        "id": "view-in-github",
        "colab_type": "text"
      },
      "source": [
        "<a href=\"https://colab.research.google.com/github/Angela-rubypet/Learn_python/blob/main/%E7%B2%BE%E9%80%9Apython%E7%B7%B4%E7%BF%92.ipynb\" target=\"_parent\"><img src=\"https://colab.research.google.com/assets/colab-badge.svg\" alt=\"Open In Colab\"/></a>"
      ]
    },
    {
      "cell_type": "code",
      "metadata": {
        "colab": {
          "base_uri": "https://localhost:8080/"
        },
        "id": "pOpP1VVAcBiw",
        "outputId": "8becaeb9-e63a-481e-95df-2a8b4fc1aa29"
      },
      "source": [
        "secret=6\r\n",
        "guess=8\r\n",
        "if guess<secret:\r\n",
        "\tprint(\"too low\")\r\n",
        "elif  guess>secret:\r\n",
        "\tprint(\"too high\")\r\n",
        "else:\r\n",
        "  print(\"just right\")"
      ],
      "execution_count": 7,
      "outputs": [
        {
          "output_type": "stream",
          "text": [
            "too high\n"
          ],
          "name": "stdout"
        }
      ]
    },
    {
      "cell_type": "code",
      "metadata": {
        "colab": {
          "base_uri": "https://localhost:8080/"
        },
        "id": "IhZ5g9dldsEE",
        "outputId": "5a3b1f1b-b4bd-4570-cd5c-cf972f985e11"
      },
      "source": [
        "small=False\r\n",
        "green=True\r\n",
        "if small:\r\n",
        "  if green:\r\n",
        "    print(\"pea\")\r\n",
        "  else:\r\n",
        "    print(\"cherry\")\r\n",
        "else:\r\n",
        "  if green:\r\n",
        "    print(\"watermelon\")\r\n",
        "  else:\r\n",
        "    print(\"pumpkin\")\r\n"
      ],
      "execution_count": 9,
      "outputs": [
        {
          "output_type": "stream",
          "text": [
            "watermelon\n"
          ],
          "name": "stdout"
        }
      ]
    },
    {
      "cell_type": "code",
      "metadata": {
        "colab": {
          "base_uri": "https://localhost:8080/"
        },
        "id": "GU1DpqECh2Qp",
        "outputId": "c0300dfc-6212-4a22-dccb-f8ac237f6423"
      },
      "source": [
        "print(23)\r\n",
        "#當你呼叫print()並且傳入非字串的物件時，python會在內部使用str()函式"
      ],
      "execution_count": 10,
      "outputs": [
        {
          "output_type": "stream",
          "text": [
            "23\n"
          ],
          "name": "stdout"
        }
      ]
    },
    {
      "cell_type": "code",
      "metadata": {
        "colab": {
          "base_uri": "https://localhost:8080/"
        },
        "id": "uthQBRxvknO4",
        "outputId": "d4456770-81c4-4196-9c21-c63a18fee72d"
      },
      "source": [
        "a=\"i said 'hey'\"\r\n",
        "print(a)"
      ],
      "execution_count": 13,
      "outputs": [
        {
          "output_type": "stream",
          "text": [
            "i said 'hey'\n"
          ],
          "name": "stdout"
        }
      ]
    }
  ]
}