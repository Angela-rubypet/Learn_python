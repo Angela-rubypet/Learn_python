{
  "nbformat": 4,
  "nbformat_minor": 0,
  "metadata": {
    "colab": {
      "name": "流程控制.ipynb",
      "provenance": [],
      "authorship_tag": "ABX9TyPCHNp4CKYAmdiQsSGRZ5U4",
      "include_colab_link": true
    },
    "kernelspec": {
      "name": "python3",
      "display_name": "Python 3"
    }
  },
  "cells": [
    {
      "cell_type": "markdown",
      "metadata": {
        "id": "view-in-github",
        "colab_type": "text"
      },
      "source": [
        "<a href=\"https://colab.research.google.com/github/Angela-rubypet/Learn_python/blob/main/%E6%B5%81%E7%A8%8B%E6%8E%A7%E5%88%B6.ipynb\" target=\"_parent\"><img src=\"https://colab.research.google.com/assets/colab-badge.svg\" alt=\"Open In Colab\"/></a>"
      ]
    },
    {
      "cell_type": "code",
      "metadata": {
        "colab": {
          "base_uri": "https://localhost:8080/"
        },
        "id": "ClxvHhBWypJk",
        "outputId": "62b2bb08-f405-4429-b369-b8d2703a116b"
      },
      "source": [
        "t=int(input(\"請輸入今天的氣溫=>\"))\r\n",
        "if t<=20:\r\n",
        "  print(\"請加件外套!\")\r\n",
        "elif t>=21 and t<=23:\r\n",
        "  print(\"加薄外套~\")\r\n",
        "else:\r\n",
        "  print(\"不用啦\")"
      ],
      "execution_count": 2,
      "outputs": [
        {
          "output_type": "stream",
          "text": [
            "請輸入今天的氣溫=>21\n",
            "加薄外套~\n"
          ],
          "name": "stdout"
        }
      ]
    },
    {
      "cell_type": "code",
      "metadata": {
        "colab": {
          "base_uri": "https://localhost:8080/"
        },
        "id": "k4fLiwCd4bPG",
        "outputId": "616c948b-645c-442b-a014-1afee9326baa"
      },
      "source": [
        "m = int(input('請輸入最大值='))\r\n",
        "sum = 0\r\n",
        "for i in range(1,m+1):\r\n",
        "  # print(\"迴圈跑第\"+str(i)+\"次    i=\"+str(i))\r\n",
        "  print(\"迴圈跑第%d次 i=%d\" %(i,i))\r\n",
        "\r\n"
      ],
      "execution_count": 16,
      "outputs": [
        {
          "output_type": "stream",
          "text": [
            "請輸入最大值=12\n",
            "迴圈跑第1次 i=1\n",
            "迴圈跑第2次 i=2\n",
            "迴圈跑第3次 i=3\n",
            "迴圈跑第4次 i=4\n",
            "迴圈跑第5次 i=5\n",
            "迴圈跑第6次 i=6\n",
            "迴圈跑第7次 i=7\n",
            "迴圈跑第8次 i=8\n",
            "迴圈跑第9次 i=9\n",
            "迴圈跑第10次 i=10\n",
            "迴圈跑第11次 i=11\n",
            "迴圈跑第12次 i=12\n"
          ],
          "name": "stdout"
        }
      ]
    },
    {
      "cell_type": "markdown",
      "metadata": {
        "id": "EVM_c4Nu6_VO"
      },
      "source": [
        "```\r\n",
        "range(5)            -> 0~5-1\r\n",
        "range(0,5)         ->1~5-1\r\n",
        "range(1,11,2)          -> 1 3 5 7 9\r\n",
        "```"
      ]
    },
    {
      "cell_type": "code",
      "metadata": {
        "colab": {
          "base_uri": "https://localhost:8080/"
        },
        "id": "G0aY1DXh6hD4",
        "outputId": "d0f9bc64-908c-449b-e109-a16100f424a5"
      },
      "source": [
        "for i in range(5):\r\n",
        "  print(\"range(5)的值=\"+str(i))"
      ],
      "execution_count": 18,
      "outputs": [
        {
          "output_type": "stream",
          "text": [
            "range(5)的值=0\n",
            "range(5)的值=1\n",
            "range(5)的值=2\n",
            "range(5)的值=3\n",
            "range(5)的值=4\n"
          ],
          "name": "stdout"
        }
      ]
    },
    {
      "cell_type": "code",
      "metadata": {
        "colab": {
          "base_uri": "https://localhost:8080/"
        },
        "id": "SuYcGuKkAor1",
        "outputId": "e986240a-dff4-4bcb-e204-ec8b71b81352"
      },
      "source": [
        "for i in range(1,5):\r\n",
        "  print(\"range(1,5)的值=\"+str(i))"
      ],
      "execution_count": 19,
      "outputs": [
        {
          "output_type": "stream",
          "text": [
            "range(1,5)的值=1\n",
            "range(1,5)的值=2\n",
            "range(1,5)的值=3\n",
            "range(1,5)的值=4\n"
          ],
          "name": "stdout"
        }
      ]
    },
    {
      "cell_type": "code",
      "metadata": {
        "colab": {
          "base_uri": "https://localhost:8080/"
        },
        "id": "tdBj0VH_A8q4",
        "outputId": "4c491165-9de8-402a-ad5c-9df737b2fe5b"
      },
      "source": [
        "for i in range(1,11,5):\r\n",
        "  print('range(1,11,2)的值='+str(i))"
      ],
      "execution_count": 27,
      "outputs": [
        {
          "output_type": "stream",
          "text": [
            "range(1,11,2)的值=1\n",
            "range(1,11,2)的值=6\n"
          ],
          "name": "stdout"
        }
      ]
    }
  ]
}