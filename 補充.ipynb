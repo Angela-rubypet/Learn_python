{
  "nbformat": 4,
  "nbformat_minor": 0,
  "metadata": {
    "colab": {
      "name": "函數.ipynb",
      "provenance": [],
      "authorship_tag": "ABX9TyNygRCXntOLONAWM/khmyfw",
      "include_colab_link": true
    },
    "kernelspec": {
      "name": "python3",
      "display_name": "Python 3"
    }
  },
  "cells": [
    {
      "cell_type": "markdown",
      "metadata": {
        "id": "view-in-github",
        "colab_type": "text"
      },
      "source": [
        "<a href=\"https://colab.research.google.com/github/Angela-rubypet/Learn_python/blob/main/%E8%A3%9C%E5%85%85.ipynb\" target=\"_parent\"><img src=\"https://colab.research.google.com/assets/colab-badge.svg\" alt=\"Open In Colab\"/></a>"
      ]
    },
    {
      "cell_type": "code",
      "metadata": {
        "id": "221KfQfh5y-x",
        "colab": {
          "base_uri": "https://localhost:8080/"
        },
        "outputId": "f867efa8-bc1f-4a5a-e4ac-bf4423f33c28"
      },
      "source": [
        "\r\n",
        "2.3e-3"
      ],
      "execution_count": null,
      "outputs": [
        {
          "output_type": "execute_result",
          "data": {
            "text/plain": [
              "0.0023"
            ]
          },
          "metadata": {
            "tags": []
          },
          "execution_count": 9
        }
      ]
    },
    {
      "cell_type": "code",
      "metadata": {
        "id": "YGagUzVM-OnN",
        "colab": {
          "base_uri": "https://localhost:8080/"
        },
        "outputId": "fc64a5c7-1adc-45e1-ae62-7d3cbefa524f"
      },
      "source": [
        "print(\"你好\\n我是魯比的姊姊\\n哈\") #換行符號\r\n"
      ],
      "execution_count": null,
      "outputs": [
        {
          "output_type": "stream",
          "text": [
            "你好\n",
            "我是魯比的姊姊\n",
            "哈\n"
          ],
          "name": "stdout"
        }
      ]
    },
    {
      "cell_type": "code",
      "metadata": {
        "id": "C2ZP65ikASyV",
        "colab": {
          "base_uri": "https://localhost:8080/"
        },
        "outputId": "c78456c2-b560-4d71-8d73-91e9fc26a542"
      },
      "source": [
        "print(\"我是魯比的\\n\\r姊姊\") #轉義字元"
      ],
      "execution_count": null,
      "outputs": [
        {
          "output_type": "stream",
          "text": [
            "我是魯比的\n",
            "\r姊姊\n"
          ],
          "name": "stdout"
        }
      ]
    },
    {
      "cell_type": "code",
      "metadata": {
        "id": "LfxEFCs4BqMR",
        "colab": {
          "base_uri": "https://localhost:8080/"
        },
        "outputId": "b6ba7fb5-71d7-4a03-d9fa-67e400f96aad"
      },
      "source": [
        "ans=input(\"蘋果的英文=\")\r\n",
        "print(ans.lower())  #輸入大寫也可以變小寫"
      ],
      "execution_count": null,
      "outputs": [
        {
          "output_type": "stream",
          "text": [
            "蘋果的英文=apple\n"
          ],
          "name": "stdout"
        }
      ]
    },
    {
      "cell_type": "code",
      "metadata": {
        "id": "GhHMqA5IEstv",
        "colab": {
          "base_uri": "https://localhost:8080/"
        },
        "outputId": "f2e77399-bca7-46ac-92cf-dd91af85417c"
      },
      "source": [
        "print(\"蘋果的英文=\",end=\"\")\r\n",
        "ans=input()\r\n",
        "\r\n",
        "\r\n",
        "\r\n",
        "\r\n"
      ],
      "execution_count": null,
      "outputs": [
        {
          "output_type": "stream",
          "text": [
            "蘋果的英文=apple\n"
          ],
          "name": "stdout"
        }
      ]
    },
    {
      "cell_type": "code",
      "metadata": {
        "id": "V9Wso0cpFLRI",
        "colab": {
          "base_uri": "https://localhost:8080/"
        },
        "outputId": "0328d9d1-eab2-482b-da3b-12b335e9b9d3"
      },
      "source": [
        "print(input(\"蘋果的英文=\"))"
      ],
      "execution_count": null,
      "outputs": [
        {
          "output_type": "stream",
          "text": [
            "蘋果的英文=apple\n",
            "apple\n"
          ],
          "name": "stdout"
        }
      ]
    },
    {
      "cell_type": "code",
      "metadata": {
        "id": "VbAPY5HkHSIt",
        "colab": {
          "base_uri": "https://localhost:8080/",
          "height": 52
        },
        "outputId": "4ebdfa03-858a-44aa-935d-a971acf0d7ac"
      },
      "source": [
        "input(\"蘋果的英文=\")"
      ],
      "execution_count": null,
      "outputs": [
        {
          "output_type": "stream",
          "text": [
            "蘋果的英文=apple\n"
          ],
          "name": "stdout"
        },
        {
          "output_type": "execute_result",
          "data": {
            "application/vnd.google.colaboratory.intrinsic+json": {
              "type": "string"
            },
            "text/plain": [
              "'apple'"
            ]
          },
          "metadata": {
            "tags": []
          },
          "execution_count": 55
        }
      ]
    },
    {
      "cell_type": "code",
      "metadata": {
        "id": "GR3VgbJeI70X",
        "colab": {
          "base_uri": "https://localhost:8080/",
          "height": 52
        },
        "outputId": "eb1a53bc-8203-4427-b673-51839963acbb"
      },
      "source": [
        "a=input(\"蘋果的英文=\")\r\n",
        "a"
      ],
      "execution_count": null,
      "outputs": [
        {
          "output_type": "stream",
          "text": [
            "蘋果的英文=a\n"
          ],
          "name": "stdout"
        },
        {
          "output_type": "execute_result",
          "data": {
            "application/vnd.google.colaboratory.intrinsic+json": {
              "type": "string"
            },
            "text/plain": [
              "'a'"
            ]
          },
          "metadata": {
            "tags": []
          },
          "execution_count": 57
        }
      ]
    },
    {
      "cell_type": "code",
      "metadata": {
        "id": "ffL48zHBLhPZ",
        "colab": {
          "base_uri": "https://localhost:8080/",
          "height": 34
        },
        "outputId": "60760908-6aa8-4848-869c-ed1d47abffd2"
      },
      "source": [
        "name=\"小趙\"\r\n",
        "id=17\r\n",
        "# print(\"姓名=%s id=%s\"%(name,id))\r\n",
        "\"姓名=%s id=%s\"%(name,id)\r\n"
      ],
      "execution_count": null,
      "outputs": [
        {
          "output_type": "execute_result",
          "data": {
            "application/vnd.google.colaboratory.intrinsic+json": {
              "type": "string"
            },
            "text/plain": [
              "'姓名=小趙 id=17'"
            ]
          },
          "metadata": {
            "tags": []
          },
          "execution_count": 60
        }
      ]
    },
    {
      "cell_type": "code",
      "metadata": {
        "id": "NSBE3jTOMox5",
        "colab": {
          "base_uri": "https://localhost:8080/",
          "height": 34
        },
        "outputId": "c71bf5b8-01d9-4e2a-ca04-1d6eda07ffa6"
      },
      "source": [
        "\"蘋果汁裡面果汁含量%.3f%%\" %(10.2)"
      ],
      "execution_count": null,
      "outputs": [
        {
          "output_type": "execute_result",
          "data": {
            "application/vnd.google.colaboratory.intrinsic+json": {
              "type": "string"
            },
            "text/plain": [
              "'蘋果汁裡面果汁含量10.200%'"
            ]
          },
          "metadata": {
            "tags": []
          },
          "execution_count": 63
        }
      ]
    },
    {
      "cell_type": "code",
      "metadata": {
        "id": "BphipRp9NaFX",
        "colab": {
          "base_uri": "https://localhost:8080/"
        },
        "outputId": "9e948acb-2930-4f7d-ab6f-0d0a8c45665f"
      },
      "source": [
        "a=\"{0}今年{1}歲\"\r\n",
        "a=a.format(\"小趙\",\"10\")\r\n",
        "print(a)"
      ],
      "execution_count": null,
      "outputs": [
        {
          "output_type": "stream",
          "text": [
            "小趙今年10歲\n"
          ],
          "name": "stdout"
        }
      ]
    },
    {
      "cell_type": "code",
      "metadata": {
        "id": "129S_TO0OSJt",
        "colab": {
          "base_uri": "https://localhost:8080/"
        },
        "outputId": "5eae2e5e-5a6c-41b2-d05a-50e2702ee299"
      },
      "source": [
        "a=\"{s}今年{d}歲\"\r\n",
        "a=a.format(s=\"小趙\",d=\"10\")\r\n",
        "print(a)"
      ],
      "execution_count": null,
      "outputs": [
        {
          "output_type": "stream",
          "text": [
            "小趙今年10歲\n"
          ],
          "name": "stdout"
        }
      ]
    },
    {
      "cell_type": "code",
      "metadata": {
        "id": "P6IbPPahOpek",
        "colab": {
          "base_uri": "https://localhost:8080/",
          "height": 34
        },
        "outputId": "a14d22ac-355d-437f-953d-91740fc53e45"
      },
      "source": [
        "\"體積縮小{:.3f}%\".format(36.235623)"
      ],
      "execution_count": null,
      "outputs": [
        {
          "output_type": "execute_result",
          "data": {
            "application/vnd.google.colaboratory.intrinsic+json": {
              "type": "string"
            },
            "text/plain": [
              "'體積縮小36.236%'"
            ]
          },
          "metadata": {
            "tags": []
          },
          "execution_count": 70
        }
      ]
    },
    {
      "cell_type": "code",
      "metadata": {
        "id": "IILCjO6PRDHt",
        "colab": {
          "base_uri": "https://localhost:8080/",
          "height": 34
        },
        "outputId": "80334f3a-1a44-4657-f137-579b4ebf4d17"
      },
      "source": [
        "\"{:5},{:5d},{:=^8}\".format(\"魯比\",56,12)"
      ],
      "execution_count": null,
      "outputs": [
        {
          "output_type": "execute_result",
          "data": {
            "application/vnd.google.colaboratory.intrinsic+json": {
              "type": "string"
            },
            "text/plain": [
              "'魯比   ,   56,===12==='"
            ]
          },
          "metadata": {
            "tags": []
          },
          "execution_count": 85
        }
      ]
    },
    {
      "cell_type": "code",
      "metadata": {
        "id": "c2kNt6-HSGvZ",
        "colab": {
          "base_uri": "https://localhost:8080/"
        },
        "outputId": "da01eb3c-c5ec-4cf2-9195-86aa66251e71"
      },
      "source": [
        "r=10\r\n",
        "y=\"小趙\"\r\n",
        "a=f\"{y}今年{r}歲\"\r\n",
        "print(a)"
      ],
      "execution_count": null,
      "outputs": [
        {
          "output_type": "stream",
          "text": [
            "小趙今年10歲\n"
          ],
          "name": "stdout"
        }
      ]
    }
  ]
}